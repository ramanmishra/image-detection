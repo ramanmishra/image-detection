{
 "cells": [
  {
   "cell_type": "code",
   "execution_count": 11,
   "metadata": {},
   "outputs": [],
   "source": [
    "import cv2\n",
    "import matplotlib.pyplot as plt\n",
    "import glob\n",
    "import os\n",
    "#from imgaug import augmenters as iaa\n",
    "#import imgaug as ia\n",
    "import numpy as np\n",
    "import cv2\n",
    "import matplotlib.pyplot as plt\n",
    "import os\n",
    "import pickle"
   ]
  },
  {
   "cell_type": "code",
   "execution_count": 12,
   "metadata": {},
   "outputs": [],
   "source": [
    "product_image_path=\"./images/*\"\n",
    "folders=\"./images\""
   ]
  },
  {
   "cell_type": "code",
   "execution_count": 13,
   "metadata": {},
   "outputs": [
    {
     "data": {
      "text/plain": [
       "['./images\\\\others', './images\\\\parleG']"
      ]
     },
     "execution_count": 13,
     "metadata": {},
     "output_type": "execute_result"
    }
   ],
   "source": [
    "glob.glob(\"./images/*\")"
   ]
  },
  {
   "cell_type": "code",
   "execution_count": 14,
   "metadata": {},
   "outputs": [],
   "source": [
    "for i in folders:\n",
    "    image = \"\".join(i.split(\"\\\\\"))[-1]\n",
    "    for j in glob.glob(i+\"/*.jpg\"):\n",
    "        image_name = j.split(\"\\\\\")[-1][:4]"
   ]
  },
  {
   "cell_type": "code",
   "execution_count": 15,
   "metadata": {},
   "outputs": [],
   "source": [
    "folder1 = [i for i in glob.glob(\"C:\\\\Users\\\\Raman\\\\Desktop\\\\makathon\\\\images/*\")]\n",
    "resize(folder1)\n",
    "datacsv = pickelMaker(\"C:\\\\Users\\\\Raman\\\\Desktop\\\\makathon\\\\images\")"
   ]
  },
  {
   "cell_type": "code",
   "execution_count": 16,
   "metadata": {},
   "outputs": [],
   "source": [
    "def pickelMaker(path_of_images):\n",
    "\n",
    "    csv=[]\n",
    "    images=[]\n",
    "    labels=[]\n",
    "    count=0\n",
    "    for i in glob.glob( \"C:\\\\Users\\\\Raman\\\\Desktop\\\\makathon\\\\small\"+'/*'):\n",
    "        csv.append((i.split('\\\\')[-1],count))\n",
    "        for j in glob.glob(i+'/*'):\n",
    "            x= plt.imread(j)\n",
    "            images.append(x)\n",
    "            labels.append(count)\n",
    "        count+=1\n",
    "\n",
    "#     labels=np.asarray(labels)\n",
    "#     images=np.asarray(images, dtype=np.uint8)\n",
    "    product={'images':images,'labels':labels}\n",
    "    path_of_pickle_file=\"./product.pickle\"\n",
    "    file=open(path_of_pickle_file,'wb')\n",
    "    pickle.dump(product, file, protocol=pickle.HIGHEST_PROTOCOL)\n",
    "    file.close()\n",
    "    return csv"
   ]
  },
  {
   "cell_type": "code",
   "execution_count": 17,
   "metadata": {},
   "outputs": [],
   "source": [
    "def resize(folders):\n",
    "    if not os.path.exists('small'):\n",
    "        os.makedirs('small')\n",
    "    count1=0\n",
    "    for i in folders:\n",
    "        count=0\n",
    "        path_resized_images=\"small/small_\"+str(folders[count1].split('\\\\')[-1])\n",
    "        if not os.path.exists(path_resized_images):\n",
    "            os.makedirs(path_resized_images)\n",
    "        for j in glob.glob(i+'/*'):\n",
    "            x=plt.imread(j)\n",
    "            y=cv2.resize(x,(32,32))\n",
    "            z = cv2.cvtColor(y, cv2.COLOR_BGR2RGB)\n",
    "            cv2.imwrite(path_resized_images+\"/\"+str(count)+'.jpg',z)\n",
    "            count=count+1\n",
    "        count1+=1"
   ]
  },
  {
   "cell_type": "code",
   "execution_count": null,
   "metadata": {},
   "outputs": [],
   "source": []
  }
 ],
 "metadata": {
  "kernelspec": {
   "display_name": "Python 3",
   "language": "python",
   "name": "python3"
  },
  "language_info": {
   "codemirror_mode": {
    "name": "ipython",
    "version": 3
   },
   "file_extension": ".py",
   "mimetype": "text/x-python",
   "name": "python",
   "nbconvert_exporter": "python",
   "pygments_lexer": "ipython3",
   "version": "3.5.2"
  },
  "widgets": {
   "state": {},
   "version": "1.1.2"
  }
 },
 "nbformat": 4,
 "nbformat_minor": 2
}
